{
 "cells": [
  {
   "cell_type": "markdown",
   "metadata": {},
   "source": [
    "##### Order of Operation\n",
    "1. import\n",
    "2. read in training data \n",
    "3. clean data \n",
    "4. stem words with snowball stemmer\n",
    "5. pipeline tfidf vectorizer, [selected classifier]\n",
    "6. choose best pipeline\n",
    "7. gridsearchcv on pipeline to find best tuned classifier\n",
    "8. test on other data i.e. Kaggle, friends, etc..."
   ]
  },
  {
   "cell_type": "markdown",
   "metadata": {},
   "source": [
    "## Introduction\n",
    "In this project, I try to optimize a supervised machine learning algorithm to predict Myers-Briggs personality profiles of Kaggle forum users based on the [(MBTI) Myers-Briggs Personality Type Dataset](https://www.kaggle.com/datasnaek/mbti-type) on Kaggle. \n",
    "\n",
    "This notebook was forked from [this](https://www.kaggle.com/lbronchal/what-s-the-personality-of-kaggle-users) Kaggle kernel. "
   ]
  },
  {
   "cell_type": "code",
   "execution_count": 55,
   "metadata": {
    "collapsed": true
   },
   "outputs": [],
   "source": [
    "import re\n",
    "import string\n",
    "import numpy as np\n",
    "import pandas as pd\n",
    "import matplotlib.pyplot as plt\n",
    "import seaborn as sns\n",
    "from bs4 import BeautifulSoup\n",
    "from nltk.stem.snowball import SnowballStemmer"
   ]
  },
  {
   "cell_type": "code",
   "execution_count": 23,
   "metadata": {
    "collapsed": true
   },
   "outputs": [],
   "source": [
    "train_data = pd.read_csv('../mbti-project/mbti_1.csv')\n",
    "user_data = pd.read_csv('../mbti-project/Users.csv')\n",
    "forum_data = pd.read_csv('../mbti-project/ForumMessages.csv')\n",
    "mbti = {'I':'Introversion', 'E':'Extroversion', 'N':'Intuition', \n",
    "        'S':'Sensing', 'T':'Thinking', 'F': 'Feeling', \n",
    "        'J':'Judging', 'P': 'Perceiving'}"
   ]
  },
  {
   "cell_type": "markdown",
   "metadata": {},
   "source": [
    "Let's look at the structure of the dataset."
   ]
  },
  {
   "cell_type": "code",
   "execution_count": 24,
   "metadata": {},
   "outputs": [
    {
     "data": {
      "text/plain": [
       "(8675, 2)"
      ]
     },
     "execution_count": 24,
     "metadata": {},
     "output_type": "execute_result"
    }
   ],
   "source": [
    "train_data.shape"
   ]
  },
  {
   "cell_type": "markdown",
   "metadata": {},
   "source": [
    "Let's look at the distribution of personality profile types in the training data."
   ]
  },
  {
   "cell_type": "code",
   "execution_count": 25,
   "metadata": {},
   "outputs": [
    {
     "data": {
      "image/png": "[encoded data removed]",
      "text/plain": [
       "<matplotlib.figure.Figure at 0x2986d97b2e8>"
      ]
     },
     "metadata": {},
     "output_type": "display_data"
    }
   ],
   "source": [
    "type_count = train_data['type'].value_counts()\n",
    "\n",
    "plt.figure(figsize=(12,4))\n",
    "sns.barplot(type_count.index, type_count.values, alpha=0.8)\n",
    "plt.ylabel('Number of Occurrences', fontsize=12)\n",
    "plt.xlabel('Types', fontsize=12)\n",
    "plt.show()"
   ]
  },
  {
   "cell_type": "markdown",
   "metadata": {
    "collapsed": true
   },
   "source": [
    "The personality types seems to be heavily skewed to the right."
   ]
  },
  {
   "cell_type": "markdown",
   "metadata": {},
   "source": [
    "Let's see if there are missing values in our data."
   ]
  },
  {
   "cell_type": "code",
   "execution_count": 26,
   "metadata": {},
   "outputs": [
    {
     "name": "stdout",
     "output_type": "stream",
     "text": [
      "Forum Missing Values:\n",
      "Id                           0\n",
      "ForumTopicId                 0\n",
      "AuthorUserId                 0\n",
      "PostDate                     0\n",
      "Message                    581\n",
      "ReplyToForumMessageId    70620\n",
      "TopicMessagePosition         0\n",
      "RawMarkdown              60694\n",
      "Score                        0\n",
      "FlaggedCount                 0\n",
      "dtype: int64\n",
      "\n",
      "\n",
      "User Missing Values:\n",
      "Id                     0\n",
      "UserName          267200\n",
      "DisplayName           21\n",
      "RegisterDate           0\n",
      "Points            510138\n",
      "Ranking           510138\n",
      "Tier                   0\n",
      "HighestRanking    510132\n",
      "dtype: int64\n",
      "\n",
      "\n",
      "Training Missing Values:\n",
      "type     0\n",
      "posts    0\n",
      "dtype: int64\n"
     ]
    }
   ],
   "source": [
    "print('Forum Missing Values:')\n",
    "print(forum_data.isnull().sum())\n",
    "print('\\n')\n",
    "print('User Missing Values:')\n",
    "print(user_data.isnull().sum())\n",
    "print('\\n')\n",
    "print('Training Missing Values:')\n",
    "print(train_data.isnull().sum())"
   ]
  },
  {
   "cell_type": "markdown",
   "metadata": {},
   "source": [
    "Fill missing values for `forum_data['Message']` with blank space."
   ]
  },
  {
   "cell_type": "code",
   "execution_count": 27,
   "metadata": {},
   "outputs": [
    {
     "name": "stdout",
     "output_type": "stream",
     "text": [
      "Forum Missing Values:\n",
      "Id                           0\n",
      "ForumTopicId                 0\n",
      "AuthorUserId                 0\n",
      "PostDate                     0\n",
      "Message                      0\n",
      "ReplyToForumMessageId    70620\n",
      "TopicMessagePosition         0\n",
      "RawMarkdown              60694\n",
      "Score                        0\n",
      "FlaggedCount                 0\n",
      "dtype: int64\n"
     ]
    }
   ],
   "source": [
    "forum_data['Message'] = forum_data['Message'].fillna('')\n",
    "\n",
    "print('Forum Missing Values:')\n",
    "print(forum_data.isnull().sum())"
   ]
  },
  {
   "cell_type": "code",
   "execution_count": 28,
   "metadata": {},
   "outputs": [
    {
     "name": "stdout",
     "output_type": "stream",
     "text": [
      "3258      1459\n",
      "993       1353\n",
      "2242      1191\n",
      "59561     1011\n",
      "5309       913\n",
      "114978     699\n",
      "1828       679\n",
      "100236     604\n",
      "6696       510\n",
      "24266      499\n",
      "317687     488\n",
      "75837      451\n",
      "2505       436\n",
      "140793     390\n",
      "368        377\n",
      "23831      376\n",
      "3716       375\n",
      "263583     362\n",
      "111776     341\n",
      "147404     323\n",
      "1335       320\n",
      "4398       315\n",
      "37404      310\n",
      "111640     284\n",
      "102203     264\n",
      "381        263\n",
      "2194       253\n",
      "10035      239\n",
      "2036       239\n",
      "131576     237\n",
      "          ... \n",
      "138735       1\n",
      "2839         1\n",
      "201524       1\n",
      "217916       1\n",
      "111072       1\n",
      "405968       1\n",
      "80305        1\n",
      "391593       1\n",
      "231655       1\n",
      "116975       1\n",
      "80113        1\n",
      "170245       1\n",
      "49422        1\n",
      "55030        1\n",
      "10515        1\n",
      "31001        1\n",
      "233764       1\n",
      "366885       1\n",
      "397037       1\n",
      "217404       1\n",
      "145130       1\n",
      "158043       1\n",
      "637281       1\n",
      "51599        1\n",
      "405904       1\n",
      "358082       1\n",
      "155303       1\n",
      "131478       1\n",
      "389544       1\n",
      "14329        1\n",
      "Name: AuthorUserId, Length: 13340, dtype: int64\n"
     ]
    }
   ],
   "source": [
    "print(forum_data['AuthorUserId'].value_counts())"
   ]
  },
  {
   "cell_type": "markdown",
   "metadata": {},
   "source": [
    "Since a given user might have posted more than once on Kaggle forums, I will group all `'Message'` together for each unique user."
   ]
  },
  {
   "cell_type": "code",
   "execution_count": 29,
   "metadata": {
    "collapsed": true
   },
   "outputs": [],
   "source": [
    "forum_data_agg = forum_data.groupby('AuthorUserId')['Message'].agg(lambda col: ' '.join(col)).reset_index()"
   ]
  },
  {
   "cell_type": "code",
   "execution_count": 30,
   "metadata": {},
   "outputs": [
    {
     "name": "stdout",
     "output_type": "stream",
     "text": [
      "       AuthorUserId                                            Message\n",
      "0                62  tes Vateesh, thanks for alerting us to this. C...\n",
      "1               368  The public leaderboard is only indicative beca...\n",
      "2               381  <p>Having exact reproducibility will definitel...\n",
      "3               387  <p>From an economic perspective let's look at ...\n",
      "4               392  <p>Hi all and congrats to the winners and all ...\n",
      "5               412  <p>Hi guys,</p>\\n<p>I've often been frustrated...\n",
      "6               417  <p>Please remove my entry also - I mixed up te...\n",
      "7               421  <p>Hello kagglers!</p>\\n<p>I want to ask you i...\n",
      "8               424  Hi all,<BR><BR>When I submit, the form asks me...\n",
      "9               439  Does this mean that even if someone wins round...\n",
      "10              450  There's also this piece from the BBC on the <a...\n",
      "11              451  <p>Well done to the winners. I am interested i...\n",
      "12              464  <p>Nice point. I seem to have missed out on do...\n",
      "13              478  <div>In response to a comment on the No Free H...\n",
      "14              507  <p>Because the problem of SMS verification, I ...\n",
      "15              543  I assumed it is not <span id=\"post_text_conten...\n",
      "16              554  <p>So, just to confirm. the same 25% of the te...\n",
      "17              561  <p>Check this recent NIPS paper</p>\\r\\n<p>http...\n",
      "18              570  <p>Glad these were helpful to you. Association...\n",
      "19              577  <p>Hi,</p>\\r\\n<p>Claim_Amount does not even ap...\n",
      "20              606  Hi, I'm interested in participating in the con...\n",
      "21              616  <p>Are both the public and private leaderbord ...\n",
      "22              634  Hi,<br><br>I just read in csv files and I've g...\n",
      "23              638  It seams that the <b>training</b> dataset cont...\n",
      "24              650  The individuals in the dataset are all humans,...\n",
      "25              672  Hi there,<br><br>The Fontanelles is a group wh...\n",
      "26              673  Rajstennaj, \\r\\nI can't say I've spent as much...\n",
      "27              680  Hi Anthony, is the data corrected with respect...\n",
      "28              701  A few questions about the method:\\r\\nThe step ...\n",
      "29              703  The theory of deep belief networks is probably...\n",
      "...             ...                                                ...\n",
      "13310        655525  <p>Hi Khaled, yes that's all in the pipeline.\\...\n",
      "13311        655754  <p>Can you please post the decision tree here?...\n",
      "13312        655762  <p>A good piece of work done. Thanks for shari...\n",
      "13313        655822  <p>I got a &quot;cannot reindex from a duplica...\n",
      "13314        656237     <p>Where do i get LC Data with FICO score?</p>\n",
      "13315        656739              <p>Looking forward! Thank you. :)</p>\n",
      "13316        657368  <p>Hello,</p>\\n\\n<p>I am brand new to Kaggle, ...\n",
      "13317        657547  <p>Hey guys, i found this website while browsi...\n",
      "13318        657908  <p>George, </p>\\n\\n<p>Did you ever get a respo...\n",
      "13319        657924  <p>When you say &quot;i want particular month(...\n",
      "13320        658638                 <p>Thanks,I really needed this</p>\n",
      "13321        658922  <p>Can I make kernels without making them publ...\n",
      "13322        659430  <p>Congratulations on great result!</p>\\n\\n<p>...\n",
      "13323        659525  <p>Hey,</p>\\n\\n<p>I am using proc nlmixed to d...\n",
      "13324        659797  <p>Interesting data... Where did it come from?...\n",
      "13325        659985  <p>Okay, I'm sure many of the website's experi...\n",
      "13326        660245  <p>Basically, I want to randomly split the use...\n",
      "13327        660324  <p>Rly good work Georgi Gospodinov. Is possibl...\n",
      "13328        660396  <p>Hello,</p>\\n\\n<p>I'm a Communications Assoc...\n",
      "13329        660443  <p>Impressive analysis!</p>\\n\\n<p>One tiny imp...\n",
      "13330        660695                             <p>Nice Kenrel !!!</p>\n",
      "13331        660915  <p>with multipe trigrams in a search term </p>...\n",
      "13332        663139  <p>As a newcomer I found this very interesting...\n",
      "13333        664820                <p>Adela,Jacey, Isabella, Emily</p>\n",
      "13334        664964  <p>hey , i just want perfect and attractive ba...\n",
      "13335        665134  <p>Thanks for this</p> <p>If I understand it c...\n",
      "13336        665381  <p>There is a way to get sample data for Mesa ...\n",
      "13337        665521  <p>I just attempted to solve this problem toda...\n",
      "13338        665842      <p>Kindly add me  - nilanjan.de@gmail.com</p>\n",
      "13339        666776  <p>I'm a software engineer new to Machine Lear...\n",
      "\n",
      "[13340 rows x 2 columns]\n"
     ]
    }
   ],
   "source": [
    "print(forum_data_agg)"
   ]
  },
  {
   "cell_type": "code",
   "execution_count": 31,
   "metadata": {},
   "outputs": [
    {
     "name": "stdout",
     "output_type": "stream",
     "text": [
      "71677     1\n",
      "151016    1\n",
      "494738    1\n",
      "2708      1\n",
      "126473    1\n",
      "121486    1\n",
      "19084     1\n",
      "27272     1\n",
      "605816    1\n",
      "33413     1\n",
      "43648     1\n",
      "643711    1\n",
      "518776    1\n",
      "137846    1\n",
      "45683     1\n",
      "47730     1\n",
      "43632     1\n",
      "348783    1\n",
      "62059     1\n",
      "326250    1\n",
      "21284     1\n",
      "27240     1\n",
      "397927    1\n",
      "203366    1\n",
      "33381     1\n",
      "23198     1\n",
      "144035    1\n",
      "129706    1\n",
      "105158    1\n",
      "552523    1\n",
      "         ..\n",
      "406442    1\n",
      "277709    1\n",
      "13516     1\n",
      "595094    1\n",
      "449793    1\n",
      "617783    1\n",
      "58666     1\n",
      "320822    1\n",
      "294197    1\n",
      "301551    1\n",
      "118067    1\n",
      "77103     1\n",
      "146733    1\n",
      "13612     1\n",
      "38022     1\n",
      "345378    1\n",
      "87328     1\n",
      "7108      1\n",
      "629725    1\n",
      "40435     1\n",
      "202008    1\n",
      "58646     1\n",
      "51550     1\n",
      "96258     1\n",
      "285969    1\n",
      "61922     1\n",
      "9486      1\n",
      "460042    1\n",
      "138505    1\n",
      "327680    1\n",
      "Name: AuthorUserId, Length: 13340, dtype: int64\n"
     ]
    }
   ],
   "source": [
    "print(forum_data_agg['AuthorUserId'].value_counts())"
   ]
  },
  {
   "cell_type": "markdown",
   "metadata": {},
   "source": [
    "Clean `train_data['posts']`."
   ]
  },
  {
   "cell_type": "code",
   "execution_count": 56,
   "metadata": {
    "collapsed": true
   },
   "outputs": [],
   "source": [
    "#function to clean data\n",
    "def clean_text(text):\n",
    "    #get rid of html and seperators\n",
    "    text = BeautifulSoup(text, \"lxml\").text\n",
    "    text = re.sub(r'\\|\\|\\|', r' ', text) \n",
    "    text = re.sub(r'http\\S+', r' ', text)\n",
    "    #get rid of punctuation\n",
    "    translator = str.maketrans('', '', string.punctuation)\n",
    "    text = text.translate(translator)\n",
    "    #get rid of numbers\n",
    "    text = ''.join(i for i in text if not i.isdigit())\n",
    "    return text"
   ]
  },
  {
   "cell_type": "code",
   "execution_count": 57,
   "metadata": {},
   "outputs": [],
   "source": [
    "train_data['clean_posts'] = train_data['posts'].apply(clean_text)"
   ]
  },
  {
   "cell_type": "markdown",
   "metadata": {},
   "source": [
    "Now, I'll stem the words."
   ]
  },
  {
   "cell_type": "code",
   "execution_count": 59,
   "metadata": {
    "collapsed": true
   },
   "outputs": [],
   "source": [
    "#function to stem words\n",
    "def stem_text(text):\n",
    "    stemmer = SnowballStemmer('english')\n",
    "    words_list = text.split()\n",
    "    new_list = []\n",
    "    for i in words_list:\n",
    "        word = stemmer.stem(i)\n",
    "        new_list.append(word)\n",
    "        \n",
    "    words = new_list\n",
    "    words = ' '.join(words)\n",
    "    return words"
   ]
  },
  {
   "cell_type": "code",
   "execution_count": 60,
   "metadata": {
    "collapsed": true
   },
   "outputs": [],
   "source": [
    "train_data['clean_posts'] = train_data['clean_posts'].apply(stem_text)"
   ]
  },
  {
   "cell_type": "code",
   "execution_count": 61,
   "metadata": {},
   "outputs": [
    {
     "name": "stdout",
     "output_type": "stream",
     "text": [
      "enfp and intj moment sportscent not top ten play prank what has been the most lifechang experi in your life on repeat for most of today may the perc experi immers you the last thing my infj friend post on his facebook befor commit suicid the next day rest in peac hello enfj sorri to hear of your distress it onli natur for a relationship to not be perfect all the time in everi moment of exist tri to figur the hard time as time of growth as welcom and stuff game set match prozac wellbrutin at least thirti minut of move your leg and i dont mean move them while sit in your same desk chair weed in moder mayb tri edibl as a healthier altern basic come up with three item youv determin that each type or whichev type you want to do would more than like use given each type cognit function and whatnot when left by all thing in moder sim is inde a video game and a good one at that note a good one at that is somewhat subject in that i am not complet promot the death of ani given sim dear enfp what were your favorit video game grow up and what are your now current favorit video game cool it appear to be too late sad there someon out there for everyon wait i thought confid was a good thing i just cherish the time of solitud bc i revel within my inner world more wherea most other time id be workin just enjoy the me time while you can dont worri peopl will alway be around to yo entp ladi if your into a complimentari personalitywel hey when your main social outlet is xbox live convers and even then you verbal fatigu quick i realli dig the part from to ban becaus this thread requir it of me get high in backyard roast and eat marshmellow in backyard while convers over someth intellectu follow by massag and kiss ban for too mani bs in that sentenc how could you think of the b ban for watch movi in the corner with the dunc ban becaus health class clear taught you noth about peer pressur ban for a whole host of reason two babi deer on left and right munch on a beetl in the middl use their own blood two cavemen diari today latest happen on their design cave diari wall i see it as a pokemon world an infj societi everyon becom an optimist not all artist are artist becaus they draw it the idea that count in form someth of your own like a signatur welcom to the robot rank person who down my selfesteem cuz im not an avid signatur artist like herself proud ban for take all the room under my bed ya gotta learn to share with the roach ban for be too much of a thunder grumbl kind of storm yep ahh old high school music i havent heard in age i fail a public speak class a few year ago and ive sort of learn what i could do better were i to be in that posit again a big part of my failur was just overload myself with too i like this person mental hes a confirm intj by the way move to the denver area and start a new life for myself\n"
     ]
    }
   ],
   "source": [
    "print(train_data['clean_posts'][0])"
   ]
  },
  {
   "cell_type": "markdown",
   "metadata": {},
   "source": [
    "Now, I'll build my pipeline and test a few different classifiers."
   ]
  },
  {
   "cell_type": "code",
   "execution_count": null,
   "metadata": {
    "collapsed": true
   },
   "outputs": [],
   "source": []
  }
 ],
 "metadata": {
  "kernelspec": {
   "display_name": "Python [default]",
   "language": "python",
   "name": "python3"
  },
  "language_info": {
   "codemirror_mode": {
    "name": "ipython",
    "version": 3
   },
   "file_extension": ".py",
   "mimetype": "text/x-python",
   "name": "python",
   "nbconvert_exporter": "python",
   "pygments_lexer": "ipython3",
   "version": "3.6.3"
  }
 },
 "nbformat": 4,
 "nbformat_minor": 2
}
