{
 "cells": [
  {
   "cell_type": "markdown",
   "metadata": {},
   "source": [
    "##### Order of Operation\n",
    "1. import\n",
    "2. read in training data \n",
    "3. clean data \n",
    "4. stem words with snowball stemmer\n",
    "5. pipeline tfidf vectorizer, [selected classifier]\n",
    "6. choose best pipeline\n",
    "7. gridsearchcv on pipeline to find best tuned classifier\n",
    "8. test on other data i.e. Kaggle, friends, etc..."
   ]
  },
  {
   "cell_type": "markdown",
   "metadata": {},
   "source": [
    "## Introduction\n",
    "In this project, I try to optimize a supervised machine learning algorithm to predict Myers-Briggs personality profiles of Kaggle forum users based on the [(MBTI) Myers-Briggs Personality Type Dataset](https://www.kaggle.com/datasnaek/mbti-type) on Kaggle. \n",
    "\n",
    "This notebook was forked from [this](https://www.kaggle.com/lbronchal/what-s-the-personality-of-kaggle-users) Kaggle kernel. "
   ]
  },
  {
   "cell_type": "code",
   "execution_count": 22,
   "metadata": {
    "collapsed": true
   },
   "outputs": [],
   "source": [
    "import re\n",
    "import string\n",
    "import numpy as np\n",
    "import pandas as pd\n",
    "import matplotlib.pyplot as plt\n",
    "import seaborn as sns\n",
    "from bs4 import BeautifulSoup"
   ]
  },
  {
   "cell_type": "code",
   "execution_count": 23,
   "metadata": {
    "collapsed": true
   },
   "outputs": [],
   "source": [
    "train_data = pd.read_csv('../mbti-project/mbti_1.csv')\n",
    "user_data = pd.read_csv('../mbti-project/Users.csv')\n",
    "forum_data = pd.read_csv('../mbti-project/ForumMessages.csv')\n",
    "mbti = {'I':'Introversion', 'E':'Extroversion', 'N':'Intuition', \n",
    "        'S':'Sensing', 'T':'Thinking', 'F': 'Feeling', \n",
    "        'J':'Judging', 'P': 'Perceiving'}"
   ]
  },
  {
   "cell_type": "markdown",
   "metadata": {},
   "source": [
    "Let's look at the structure of the dataset."
   ]
  },
  {
   "cell_type": "code",
   "execution_count": 24,
   "metadata": {},
   "outputs": [
    {
     "data": {
      "text/plain": [
       "(8675, 2)"
      ]
     },
     "execution_count": 24,
     "metadata": {},
     "output_type": "execute_result"
    }
   ],
   "source": [
    "train_data.shape"
   ]
  },
  {
   "cell_type": "markdown",
   "metadata": {},
   "source": [
    "Let's look at the distribution of personality profile types in the training data."
   ]
  },
  {
   "cell_type": "code",
   "execution_count": 25,
   "metadata": {},
   "outputs": [
    {
     "data": {
      "image/png": "[encoded data removed]",
      "text/plain": [
       "<matplotlib.figure.Figure at 0x2986d97b2e8>"
      ]
     },
     "metadata": {},
     "output_type": "display_data"
    }
   ],
   "source": [
    "type_count = train_data['type'].value_counts()\n",
    "\n",
    "plt.figure(figsize=(12,4))\n",
    "sns.barplot(type_count.index, type_count.values, alpha=0.8)\n",
    "plt.ylabel('Number of Occurrences', fontsize=12)\n",
    "plt.xlabel('Types', fontsize=12)\n",
    "plt.show()"
   ]
  },
  {
   "cell_type": "markdown",
   "metadata": {
    "collapsed": true
   },
   "source": [
    "The personality types seems to be heavily skewed to the right."
   ]
  },
  {
   "cell_type": "markdown",
   "metadata": {},
   "source": [
    "Let's see if there are missing values in our data."
   ]
  },
  {
   "cell_type": "code",
   "execution_count": 26,
   "metadata": {},
   "outputs": [
    {
     "name": "stdout",
     "output_type": "stream",
     "text": [
      "Forum Missing Values:\n",
      "Id                           0\n",
      "ForumTopicId                 0\n",
      "AuthorUserId                 0\n",
      "PostDate                     0\n",
      "Message                    581\n",
      "ReplyToForumMessageId    70620\n",
      "TopicMessagePosition         0\n",
      "RawMarkdown              60694\n",
      "Score                        0\n",
      "FlaggedCount                 0\n",
      "dtype: int64\n",
      "\n",
      "\n",
      "User Missing Values:\n",
      "Id                     0\n",
      "UserName          267200\n",
      "DisplayName           21\n",
      "RegisterDate           0\n",
      "Points            510138\n",
      "Ranking           510138\n",
      "Tier                   0\n",
      "HighestRanking    510132\n",
      "dtype: int64\n",
      "\n",
      "\n",
      "Training Missing Values:\n",
      "type     0\n",
      "posts    0\n",
      "dtype: int64\n"
     ]
    }
   ],
   "source": [
    "print('Forum Missing Values:')\n",
    "print(forum_data.isnull().sum())\n",
    "print('\\n')\n",
    "print('User Missing Values:')\n",
    "print(user_data.isnull().sum())\n",
    "print('\\n')\n",
    "print('Training Missing Values:')\n",
    "print(train_data.isnull().sum())"
   ]
  },
  {
   "cell_type": "markdown",
   "metadata": {},
   "source": [
    "Fill missing values for `forum_data['Message']` with blank space."
   ]
  },
  {
   "cell_type": "code",
   "execution_count": 27,
   "metadata": {},
   "outputs": [
    {
     "name": "stdout",
     "output_type": "stream",
     "text": [
      "Forum Missing Values:\n",
      "Id                           0\n",
      "ForumTopicId                 0\n",
      "AuthorUserId                 0\n",
      "PostDate                     0\n",
      "Message                      0\n",
      "ReplyToForumMessageId    70620\n",
      "TopicMessagePosition         0\n",
      "RawMarkdown              60694\n",
      "Score                        0\n",
      "FlaggedCount                 0\n",
      "dtype: int64\n"
     ]
    }
   ],
   "source": [
    "forum_data['Message'] = forum_data['Message'].fillna('')\n",
    "\n",
    "print('Forum Missing Values:')\n",
    "print(forum_data.isnull().sum())"
   ]
  },
  {
   "cell_type": "code",
   "execution_count": 28,
   "metadata": {},
   "outputs": [
    {
     "name": "stdout",
     "output_type": "stream",
     "text": [
      "3258      1459\n",
      "993       1353\n",
      "2242      1191\n",
      "59561     1011\n",
      "5309       913\n",
      "114978     699\n",
      "1828       679\n",
      "100236     604\n",
      "6696       510\n",
      "24266      499\n",
      "317687     488\n",
      "75837      451\n",
      "2505       436\n",
      "140793     390\n",
      "368        377\n",
      "23831      376\n",
      "3716       375\n",
      "263583     362\n",
      "111776     341\n",
      "147404     323\n",
      "1335       320\n",
      "4398       315\n",
      "37404      310\n",
      "111640     284\n",
      "102203     264\n",
      "381        263\n",
      "2194       253\n",
      "10035      239\n",
      "2036       239\n",
      "131576     237\n",
      "          ... \n",
      "138735       1\n",
      "2839         1\n",
      "201524       1\n",
      "217916       1\n",
      "111072       1\n",
      "405968       1\n",
      "80305        1\n",
      "391593       1\n",
      "231655       1\n",
      "116975       1\n",
      "80113        1\n",
      "170245       1\n",
      "49422        1\n",
      "55030        1\n",
      "10515        1\n",
      "31001        1\n",
      "233764       1\n",
      "366885       1\n",
      "397037       1\n",
      "217404       1\n",
      "145130       1\n",
      "158043       1\n",
      "637281       1\n",
      "51599        1\n",
      "405904       1\n",
      "358082       1\n",
      "155303       1\n",
      "131478       1\n",
      "389544       1\n",
      "14329        1\n",
      "Name: AuthorUserId, Length: 13340, dtype: int64\n"
     ]
    }
   ],
   "source": [
    "print(forum_data['AuthorUserId'].value_counts())"
   ]
  },
  {
   "cell_type": "markdown",
   "metadata": {},
   "source": [
    "Since a given user might have posted more than once on Kaggle forums, I will group all `'Message'` together for each unique user."
   ]
  },
  {
   "cell_type": "code",
   "execution_count": 29,
   "metadata": {
    "collapsed": true
   },
   "outputs": [],
   "source": [
    "forum_data_agg = forum_data.groupby('AuthorUserId')['Message'].agg(lambda col: ' '.join(col)).reset_index()"
   ]
  },
  {
   "cell_type": "code",
   "execution_count": 30,
   "metadata": {},
   "outputs": [
    {
     "name": "stdout",
     "output_type": "stream",
     "text": [
      "       AuthorUserId                                            Message\n",
      "0                62  tes Vateesh, thanks for alerting us to this. C...\n",
      "1               368  The public leaderboard is only indicative beca...\n",
      "2               381  <p>Having exact reproducibility will definitel...\n",
      "3               387  <p>From an economic perspective let's look at ...\n",
      "4               392  <p>Hi all and congrats to the winners and all ...\n",
      "5               412  <p>Hi guys,</p>\\n<p>I've often been frustrated...\n",
      "6               417  <p>Please remove my entry also - I mixed up te...\n",
      "7               421  <p>Hello kagglers!</p>\\n<p>I want to ask you i...\n",
      "8               424  Hi all,<BR><BR>When I submit, the form asks me...\n",
      "9               439  Does this mean that even if someone wins round...\n",
      "10              450  There's also this piece from the BBC on the <a...\n",
      "11              451  <p>Well done to the winners. I am interested i...\n",
      "12              464  <p>Nice point. I seem to have missed out on do...\n",
      "13              478  <div>In response to a comment on the No Free H...\n",
      "14              507  <p>Because the problem of SMS verification, I ...\n",
      "15              543  I assumed it is not <span id=\"post_text_conten...\n",
      "16              554  <p>So, just to confirm. the same 25% of the te...\n",
      "17              561  <p>Check this recent NIPS paper</p>\\r\\n<p>http...\n",
      "18              570  <p>Glad these were helpful to you. Association...\n",
      "19              577  <p>Hi,</p>\\r\\n<p>Claim_Amount does not even ap...\n",
      "20              606  Hi, I'm interested in participating in the con...\n",
      "21              616  <p>Are both the public and private leaderbord ...\n",
      "22              634  Hi,<br><br>I just read in csv files and I've g...\n",
      "23              638  It seams that the <b>training</b> dataset cont...\n",
      "24              650  The individuals in the dataset are all humans,...\n",
      "25              672  Hi there,<br><br>The Fontanelles is a group wh...\n",
      "26              673  Rajstennaj, \\r\\nI can't say I've spent as much...\n",
      "27              680  Hi Anthony, is the data corrected with respect...\n",
      "28              701  A few questions about the method:\\r\\nThe step ...\n",
      "29              703  The theory of deep belief networks is probably...\n",
      "...             ...                                                ...\n",
      "13310        655525  <p>Hi Khaled, yes that's all in the pipeline.\\...\n",
      "13311        655754  <p>Can you please post the decision tree here?...\n",
      "13312        655762  <p>A good piece of work done. Thanks for shari...\n",
      "13313        655822  <p>I got a &quot;cannot reindex from a duplica...\n",
      "13314        656237     <p>Where do i get LC Data with FICO score?</p>\n",
      "13315        656739              <p>Looking forward! Thank you. :)</p>\n",
      "13316        657368  <p>Hello,</p>\\n\\n<p>I am brand new to Kaggle, ...\n",
      "13317        657547  <p>Hey guys, i found this website while browsi...\n",
      "13318        657908  <p>George, </p>\\n\\n<p>Did you ever get a respo...\n",
      "13319        657924  <p>When you say &quot;i want particular month(...\n",
      "13320        658638                 <p>Thanks,I really needed this</p>\n",
      "13321        658922  <p>Can I make kernels without making them publ...\n",
      "13322        659430  <p>Congratulations on great result!</p>\\n\\n<p>...\n",
      "13323        659525  <p>Hey,</p>\\n\\n<p>I am using proc nlmixed to d...\n",
      "13324        659797  <p>Interesting data... Where did it come from?...\n",
      "13325        659985  <p>Okay, I'm sure many of the website's experi...\n",
      "13326        660245  <p>Basically, I want to randomly split the use...\n",
      "13327        660324  <p>Rly good work Georgi Gospodinov. Is possibl...\n",
      "13328        660396  <p>Hello,</p>\\n\\n<p>I'm a Communications Assoc...\n",
      "13329        660443  <p>Impressive analysis!</p>\\n\\n<p>One tiny imp...\n",
      "13330        660695                             <p>Nice Kenrel !!!</p>\n",
      "13331        660915  <p>with multipe trigrams in a search term </p>...\n",
      "13332        663139  <p>As a newcomer I found this very interesting...\n",
      "13333        664820                <p>Adela,Jacey, Isabella, Emily</p>\n",
      "13334        664964  <p>hey , i just want perfect and attractive ba...\n",
      "13335        665134  <p>Thanks for this</p> <p>If I understand it c...\n",
      "13336        665381  <p>There is a way to get sample data for Mesa ...\n",
      "13337        665521  <p>I just attempted to solve this problem toda...\n",
      "13338        665842      <p>Kindly add me  - nilanjan.de@gmail.com</p>\n",
      "13339        666776  <p>I'm a software engineer new to Machine Lear...\n",
      "\n",
      "[13340 rows x 2 columns]\n"
     ]
    }
   ],
   "source": [
    "print(forum_data_agg)"
   ]
  },
  {
   "cell_type": "code",
   "execution_count": 31,
   "metadata": {},
   "outputs": [
    {
     "name": "stdout",
     "output_type": "stream",
     "text": [
      "71677     1\n",
      "151016    1\n",
      "494738    1\n",
      "2708      1\n",
      "126473    1\n",
      "121486    1\n",
      "19084     1\n",
      "27272     1\n",
      "605816    1\n",
      "33413     1\n",
      "43648     1\n",
      "643711    1\n",
      "518776    1\n",
      "137846    1\n",
      "45683     1\n",
      "47730     1\n",
      "43632     1\n",
      "348783    1\n",
      "62059     1\n",
      "326250    1\n",
      "21284     1\n",
      "27240     1\n",
      "397927    1\n",
      "203366    1\n",
      "33381     1\n",
      "23198     1\n",
      "144035    1\n",
      "129706    1\n",
      "105158    1\n",
      "552523    1\n",
      "         ..\n",
      "406442    1\n",
      "277709    1\n",
      "13516     1\n",
      "595094    1\n",
      "449793    1\n",
      "617783    1\n",
      "58666     1\n",
      "320822    1\n",
      "294197    1\n",
      "301551    1\n",
      "118067    1\n",
      "77103     1\n",
      "146733    1\n",
      "13612     1\n",
      "38022     1\n",
      "345378    1\n",
      "87328     1\n",
      "7108      1\n",
      "629725    1\n",
      "40435     1\n",
      "202008    1\n",
      "58646     1\n",
      "51550     1\n",
      "96258     1\n",
      "285969    1\n",
      "61922     1\n",
      "9486      1\n",
      "460042    1\n",
      "138505    1\n",
      "327680    1\n",
      "Name: AuthorUserId, Length: 13340, dtype: int64\n"
     ]
    }
   ],
   "source": [
    "print(forum_data_agg['AuthorUserId'].value_counts())"
   ]
  },
  {
   "cell_type": "markdown",
   "metadata": {},
   "source": [
    "Clean `train_data['posts']` and get rid of punctuation."
   ]
  },
  {
   "cell_type": "code",
   "execution_count": 43,
   "metadata": {
    "collapsed": true
   },
   "outputs": [],
   "source": [
    "#function to clean data\n",
    "def clean_text(text):\n",
    "    text = BeautifulSoup(text, \"lxml\").text\n",
    "    text = re.sub(r'\\|\\|\\|', r' ', text) \n",
    "    text = re.sub(r'http\\S+', r' ', text)\n",
    "    translator = str.maketrans('', '', string.punctuation)\n",
    "    return text.translate(translator)"
   ]
  },
  {
   "cell_type": "code",
   "execution_count": 45,
   "metadata": {},
   "outputs": [],
   "source": [
    "train_data['clean_posts'] = train_data['posts'].apply(clean_text)"
   ]
  },
  {
   "cell_type": "code",
   "execution_count": 47,
   "metadata": {},
   "outputs": [
    {
     "name": "stdout",
     "output_type": "stream",
     "text": [
      "      type                                              posts  \\\n",
      "0     INFJ  'http://www.youtube.com/watch?v=qsXHcwe3krw|||...   \n",
      "1     ENTP  'I'm finding the lack of me in these posts ver...   \n",
      "2     INTP  'Good one  _____   https://www.youtube.com/wat...   \n",
      "3     INTJ  'Dear INTP,   I enjoyed our conversation the o...   \n",
      "4     ENTJ  'You're fired.|||That's another silly misconce...   \n",
      "5     INTJ  '18/37 @.@|||Science  is not perfect. No scien...   \n",
      "6     INFJ  'No, I can't draw on my own nails (haha). Thos...   \n",
      "7     INTJ  'I tend to build up a collection of things on ...   \n",
      "8     INFJ  I'm not sure, that's a good question. The dist...   \n",
      "9     INTP  'https://www.youtube.com/watch?v=w8-egj0y8Qs||...   \n",
      "10    INFJ  'One time my parents were fighting over my dad...   \n",
      "11    ENFJ  'https://www.youtube.com/watch?v=PLAaiKvHvZs||...   \n",
      "12    INFJ  'Joe santagato - ENTP|||ENFJ or  ENTP?   I'm n...   \n",
      "13    INTJ  'Fair enough, if that's how you want to look a...   \n",
      "14    INTP  'Basically this...  https://youtu.be/1pH5c1Jkh...   \n",
      "15    INTP  'Your comment screams INTJ, bro. Especially th...   \n",
      "16    INFJ  'some of these both excite and calm me:  BUTTS...   \n",
      "17    INFP  'I think we do agree. I personally don't consi...   \n",
      "18    INFJ  'I fully believe in the power of being a prote...   \n",
      "19    INFP  'That's normal, it happens also to me. If I am...   \n",
      "20    INTP  'Steve Job's was recognized for his striving f...   \n",
      "21    INFJ  'It is very annoying to be misinterpreted. Esp...   \n",
      "22    ENTJ  'Now I'm interested. But too lazy to go resear...   \n",
      "23    INFP  '45016 urh sorry uh. couldn't resist.|||all of...   \n",
      "24    ENTJ  'Still going strong at just over the two year ...   \n",
      "25    INFP  'Personally, I was thinking this would be more...   \n",
      "26    ENFP  'He doesn't want to go on the trip without me,...   \n",
      "27    ISFP  'They paint without numbers|||I'd guess at ist...   \n",
      "28    INFP  'Basically, my main questions are : What do yo...   \n",
      "29    INFJ  'I think that that can absolutely be true of i...   \n",
      "...    ...                                                ...   \n",
      "8645  INFJ  'I play cello, and I'm also a classically trai...   \n",
      "8646  INFP  Its more or less based on how YOU experienced ...   \n",
      "8647  INTP  Socionics picked up on this.  They call it vis...   \n",
      "8648  INFP  'Good advice, thank you.|||I am in a tough sit...   \n",
      "8649  INFP  https://www.youtube.com/watch?v=nPDusM-75FE  e...   \n",
      "8650  INFJ  'I think the real question is whether INFJs ca...   \n",
      "8651  ISTP  '-Being alone -Being insensitive  -Over thinki...   \n",
      "8652  ISFJ  'Being assertive and standing up for myself is...   \n",
      "8653  INFP  'You should do whatever it is you want. If you...   \n",
      "8654  ISTJ  'Assuming I had a hand in it, I always at leas...   \n",
      "8655  INFJ  'I find that poster and your facial expression...   \n",
      "8656  INFJ  Rim  In some approximate order, it seems like ...   \n",
      "8657  INTJ  Social  1) Generally, I positively associate w...   \n",
      "8658  ESFJ  'Don't worry, I do that too when a car comes c...   \n",
      "8659  ENFP  'leoni I had really bad social anxiety until I...   \n",
      "8660  INFP  'I love the vastness of the sky, because my pr...   \n",
      "8661  ENTP  '**haven't logged in and read posts for over 6...   \n",
      "8662  INTJ  'I can't say I have any one specific belief. I...   \n",
      "8663  INTP  'doesn't matter, you don't have a choice, Elec...   \n",
      "8664  INTP  'https://www.youtube.com/watch?v=7zsMdi714mI||...   \n",
      "8665  ENTP  'This test wasn't even close on my gender, age...   \n",
      "8666  INTJ  'Highly recommend this to those who wants to t...   \n",
      "8667  ENTP  'I think generally people experience post trau...   \n",
      "8668  INTJ  'Here's a planned stress relieving activity th...   \n",
      "8669  INFJ  'I'm not sure about a method for picking out I...   \n",
      "8670  ISFP  'https://www.youtube.com/watch?v=t8edHB_h908||...   \n",
      "8671  ENFP  'So...if this thread already exists someplace ...   \n",
      "8672  INTP  'So many questions when i do these things.  I ...   \n",
      "8673  INFP  'I am very conflicted right now when it comes ...   \n",
      "8674  INFP  'It has been too long since I have been on per...   \n",
      "\n",
      "                                            clean_posts  \n",
      "0         enfp and intj moments     sportscenter not...  \n",
      "1     Im finding the lack of me in these posts very ...  \n",
      "2     Good one       Of course to which I say I know...  \n",
      "3     Dear INTP   I enjoyed our conversation the oth...  \n",
      "4     Youre fired Thats another silly misconception ...  \n",
      "5     1837  Science  is not perfect No scientist cla...  \n",
      "6     No I cant draw on my own nails haha Those were...  \n",
      "7     I tend to build up a collection of things on m...  \n",
      "8     Im not sure thats a good question The distinct...  \n",
      "9       Im in this position where I have to actually...  \n",
      "10    One time my parents were fighting over my dads...  \n",
      "11      51 o I went through a break up some months a...  \n",
      "12    Joe santagato  ENTP ENFJ or  ENTP   Im not too...  \n",
      "13    Fair enough if thats how you want to look at i...  \n",
      "14    Basically this    Can I has Cheezburgr I am ve...  \n",
      "15    Your comment screams INTJ bro Especially the u...  \n",
      "16    some of these both excite and calm me  BUTTS  ...  \n",
      "17    I think we do agree I personally dont consider...  \n",
      "18    I fully believe in the power of being a protec...  \n",
      "19    Thats normal it happens also to me If I am in ...  \n",
      "20    Steve Jobs was recognized for his striving for...  \n",
      "21    It is very annoying to be misinterpreted Espec...  \n",
      "22    Now Im interested But too lazy to go research ...  \n",
      "23    45016 urh sorry uh couldnt resist all of you e...  \n",
      "24    Still going strong at just over the two year m...  \n",
      "25    Personally I was thinking this would be more o...  \n",
      "26    He doesnt want to go on the trip without me so...  \n",
      "27    They paint without numbers Id guess at istp to...  \n",
      "28    Basically my main questions are  What do you b...  \n",
      "29    I think that that can absolutely be true of in...  \n",
      "...                                                 ...  \n",
      "8645  I play cello and Im also a classically trained...  \n",
      "8646  Its more or less based on how YOU experienced ...  \n",
      "8647  Socionics picked up on this  They call it visu...  \n",
      "8648  Good advice thank you I am in a tough situatio...  \n",
      "8649     enjoy infps okok lets stop at kicking walki...  \n",
      "8650  I think the real question is whether INFJs can...  \n",
      "8651  Being alone Being insensitive  Over thinking o...  \n",
      "8652  Being assertive and standing up for myself is ...  \n",
      "8653  You should do whatever it is you want If you a...  \n",
      "8654  Assuming I had a hand in it I always at least ...  \n",
      "8655  I find that poster and your facial expression ...  \n",
      "8656  Rim  In some approximate order it seems like y...  \n",
      "8657  Social  1 Generally I positively associate wit...  \n",
      "8658  Dont worry I do that too when a car comes clos...  \n",
      "8659  leoni I had really bad social anxiety until I ...  \n",
      "8660  I love the vastness of the sky because my prob...  \n",
      "8661  havent logged in and read posts for over 6 mon...  \n",
      "8662  I cant say I have any one specific belief I me...  \n",
      "8663  doesnt matter you dont have a choice Elections...  \n",
      "8664    So many but Id say theres a tie between Grou...  \n",
      "8665  This test wasnt even close on my gender age or...  \n",
      "8666  Highly recommend this to those who wants to tr...  \n",
      "8667  I think generally people experience post traum...  \n",
      "8668  Heres a planned stress relieving activity that...  \n",
      "8669  Im not sure about a method for picking out INF...  \n",
      "8670    IxFP just because I always think of cats as ...  \n",
      "8671  Soif this thread already exists someplace else...  \n",
      "8672  So many questions when i do these things  I wo...  \n",
      "8673  I am very conflicted right now when it comes t...  \n",
      "8674  It has been too long since I have been on pers...  \n",
      "\n",
      "[8675 rows x 3 columns]\n"
     ]
    }
   ],
   "source": [
    "print(train_data)"
   ]
  }
 ],
 "metadata": {
  "kernelspec": {
   "display_name": "Python [default]",
   "language": "python",
   "name": "python3"
  },
  "language_info": {
   "codemirror_mode": {
    "name": "ipython",
    "version": 3
   },
   "file_extension": ".py",
   "mimetype": "text/x-python",
   "name": "python",
   "nbconvert_exporter": "python",
   "pygments_lexer": "ipython3",
   "version": "3.6.3"
  }
 },
 "nbformat": 4,
 "nbformat_minor": 2
}
